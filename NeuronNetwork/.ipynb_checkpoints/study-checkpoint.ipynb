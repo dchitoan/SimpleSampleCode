{
 "cells": [
  {
   "cell_type": "markdown",
   "id": "6a4c368b",
   "metadata": {},
   "source": [
    "# SIMPLE TENSOR_FLOW FRAMEWORK"
   ]
  },
  {
   "cell_type": "markdown",
   "id": "0b5e36b9",
   "metadata": {},
   "source": [
    "## Libraries"
   ]
  },
  {
   "cell_type": "code",
   "execution_count": 2,
   "id": "956c1d00",
   "metadata": {},
   "outputs": [],
   "source": [
    "import tensorflow as tf\n",
    "import numpy as np\n",
    "import matplotlib.pyplot as plt"
   ]
  },
  {
   "cell_type": "markdown",
   "id": "e446b5dc",
   "metadata": {},
   "source": [
    "## Create Sample Data"
   ]
  },
  {
   "cell_type": "code",
   "execution_count": 25,
   "id": "cf259767",
   "metadata": {},
   "outputs": [],
   "source": [
    "input_array = (np.random.rand(100,2))\n",
    "output_array = input_array.dot([5,-3]) + 10 + np.random.rand(100)"
   ]
  },
  {
   "cell_type": "markdown",
   "id": "24c0f09d",
   "metadata": {},
   "source": [
    "## Tensor.Keras Typical Code"
   ]
  },
  {
   "cell_type": "code",
   "execution_count": 27,
   "id": "72bcde70",
   "metadata": {
    "scrolled": true
   },
   "outputs": [
    {
     "data": {
      "text/plain": [
       "<keras.src.callbacks.History at 0x153b9394ed0>"
      ]
     },
     "execution_count": 27,
     "metadata": {},
     "output_type": "execute_result"
    }
   ],
   "source": [
    "input_dimension = 2\n",
    "output_dimension = 1\n",
    "\n",
    "model = tf.keras.Sequential([\n",
    "                                tf.keras.layers.Dense(output_dimension)\n",
    "                            ])\n",
    "\n",
    "model.compile(optimizer='sgd', loss='mean_squared_error')\n",
    "\n",
    "model.fit(input_array,output_array, epochs=1000,verbose=0)"
   ]
  },
  {
   "cell_type": "code",
   "execution_count": 47,
   "id": "506c2700",
   "metadata": {},
   "outputs": [
    {
     "data": {
      "text/plain": [
       "[array([[ 5.0622854],\n",
       "        [-2.858858 ]], dtype=float32),\n",
       " array([10.4261875], dtype=float32)]"
      ]
     },
     "execution_count": 47,
     "metadata": {},
     "output_type": "execute_result"
    }
   ],
   "source": [
    "model.layers[0].get_weights()"
   ]
  },
  {
   "cell_type": "code",
   "execution_count": null,
   "id": "74035935",
   "metadata": {},
   "outputs": [],
   "source": []
  }
 ],
 "metadata": {
  "kernelspec": {
   "display_name": "Python [conda env:tf_env]",
   "language": "python",
   "name": "conda-env-tf_env-py"
  },
  "language_info": {
   "codemirror_mode": {
    "name": "ipython",
    "version": 3
   },
   "file_extension": ".py",
   "mimetype": "text/x-python",
   "name": "python",
   "nbconvert_exporter": "python",
   "pygments_lexer": "ipython3",
   "version": "3.11.4"
  }
 },
 "nbformat": 4,
 "nbformat_minor": 5
}
