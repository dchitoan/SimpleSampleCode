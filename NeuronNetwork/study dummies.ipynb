{
 "cells": [
  {
   "cell_type": "code",
   "execution_count": 1,
   "id": "c253c9dc",
   "metadata": {},
   "outputs": [],
   "source": [
    "import numpy as np\n",
    "import pandas as pd\n",
    "import statsmodels.api as sm\n",
    "\n",
    "my_data = np.array([[5, 'a', 1],\n",
    "                    [3, 'b', 3],\n",
    "                    [1, 'b', 2],\n",
    "                    [3, 'a', 1],\n",
    "                    [4, 'b', 2],\n",
    "                    [7, 'c', 1],\n",
    "                    [7, 'c', 1]])                "
   ]
  },
  {
   "cell_type": "code",
   "execution_count": 2,
   "id": "8bb44d10",
   "metadata": {},
   "outputs": [
    {
     "name": "stdout",
     "output_type": "stream",
     "text": [
      "   a  b  c\n",
      "0  1  0  0\n",
      "1  0  1  0\n",
      "2  0  1  0\n",
      "3  1  0  0\n",
      "4  0  1  0\n",
      "5  0  0  1\n",
      "6  0  0  1\n"
     ]
    }
   ],
   "source": [
    "df = pd.DataFrame(data=my_data, columns=['y', 'dummy', 'x'])\n",
    "just_dummies = pd.get_dummies(df['dummy'])\n",
    "print(just_dummies)"
   ]
  },
  {
   "cell_type": "code",
   "execution_count": 3,
   "id": "ba84e6a4",
   "metadata": {},
   "outputs": [],
   "source": [
    "v=df.drop('dummy',axis=1,inplace=False)b"
   ]
  },
  {
   "cell_type": "code",
   "execution_count": 4,
   "id": "a438facd",
   "metadata": {},
   "outputs": [
    {
     "data": {
      "text/html": [
       "<div>\n",
       "<style scoped>\n",
       "    .dataframe tbody tr th:only-of-type {\n",
       "        vertical-align: middle;\n",
       "    }\n",
       "\n",
       "    .dataframe tbody tr th {\n",
       "        vertical-align: top;\n",
       "    }\n",
       "\n",
       "    .dataframe thead th {\n",
       "        text-align: right;\n",
       "    }\n",
       "</style>\n",
       "<table border=\"1\" class=\"dataframe\">\n",
       "  <thead>\n",
       "    <tr style=\"text-align: right;\">\n",
       "      <th></th>\n",
       "      <th>y</th>\n",
       "      <th>x</th>\n",
       "    </tr>\n",
       "  </thead>\n",
       "  <tbody>\n",
       "    <tr>\n",
       "      <th>0</th>\n",
       "      <td>5</td>\n",
       "      <td>1</td>\n",
       "    </tr>\n",
       "    <tr>\n",
       "      <th>1</th>\n",
       "      <td>3</td>\n",
       "      <td>3</td>\n",
       "    </tr>\n",
       "    <tr>\n",
       "      <th>2</th>\n",
       "      <td>1</td>\n",
       "      <td>2</td>\n",
       "    </tr>\n",
       "    <tr>\n",
       "      <th>3</th>\n",
       "      <td>3</td>\n",
       "      <td>1</td>\n",
       "    </tr>\n",
       "    <tr>\n",
       "      <th>4</th>\n",
       "      <td>4</td>\n",
       "      <td>2</td>\n",
       "    </tr>\n",
       "    <tr>\n",
       "      <th>5</th>\n",
       "      <td>7</td>\n",
       "      <td>1</td>\n",
       "    </tr>\n",
       "    <tr>\n",
       "      <th>6</th>\n",
       "      <td>7</td>\n",
       "      <td>1</td>\n",
       "    </tr>\n",
       "  </tbody>\n",
       "</table>\n",
       "</div>"
      ],
      "text/plain": [
       "   y  x\n",
       "0  5  1\n",
       "1  3  3\n",
       "2  1  2\n",
       "3  3  1\n",
       "4  4  2\n",
       "5  7  1\n",
       "6  7  1"
      ]
     },
     "execution_count": 4,
     "metadata": {},
     "output_type": "execute_result"
    }
   ],
   "source": [
    "v"
   ]
  },
  {
   "cell_type": "code",
   "execution_count": 32,
   "id": "8629ef66",
   "metadata": {},
   "outputs": [
    {
     "name": "stdout",
     "output_type": "stream",
     "text": [
      "   y  x  a  b\n",
      "0  5  1  1  0\n",
      "1  3  3  0  1\n",
      "2  1  2  0  1\n",
      "3  3  1  1  0\n",
      "4  4  2  0  1\n",
      "5  7  1  0  0\n",
      "6  7  1  0  0\n"
     ]
    }
   ],
   "source": [
    "step_1 = pd.concat([df, just_dummies], axis=1)      \n",
    "step_1.drop(['dummy','c'], inplace=True, axis=1)\n",
    "step_1 = step_1.applymap(int) \n",
    "print(step_1)"
   ]
  },
  {
   "cell_type": "code",
   "execution_count": 31,
   "id": "ba7fa57e",
   "metadata": {},
   "outputs": [
    {
     "name": "stdout",
     "output_type": "stream",
     "text": [
      "                            OLS Regression Results                            \n",
      "==============================================================================\n",
      "Dep. Variable:                      y   R-squared:                       0.779\n",
      "Model:                            OLS   Adj. R-squared:                  0.558\n",
      "Method:                 Least Squares   F-statistic:                     3.527\n",
      "Date:                Fri, 11 Aug 2023   Prob (F-statistic):              0.164\n",
      "Time:                        08:42:09   Log-Likelihood:                -9.6732\n",
      "No. Observations:                   7   AIC:                             27.35\n",
      "Df Residuals:                       3   BIC:                             27.13\n",
      "Df Model:                           3                                         \n",
      "Covariance Type:            nonrobust                                         \n",
      "==============================================================================\n",
      "                 coef    std err          t      P>|t|      [0.025      0.975]\n",
      "------------------------------------------------------------------------------\n",
      "const          6.5000      2.082      3.122      0.052      -0.125      13.125\n",
      "x              0.5000      1.803      0.277      0.800      -5.237       6.237\n",
      "a             -3.0000      1.472     -2.038      0.134      -7.684       1.684\n",
      "b             -5.0000      2.754     -1.816      0.167     -13.764       3.764\n",
      "==============================================================================\n",
      "Omnibus:                          nan   Durbin-Watson:                   1.846\n",
      "Prob(Omnibus):                    nan   Jarque-Bera (JB):                0.287\n",
      "Skew:                           0.000   Prob(JB):                        0.867\n",
      "Kurtosis:                       2.009   Cond. No.                         13.1\n",
      "==============================================================================\n",
      "\n",
      "Notes:\n",
      "[1] Standard Errors assume that the covariance matrix of the errors is correctly specified.\n"
     ]
    },
    {
     "name": "stderr",
     "output_type": "stream",
     "text": [
      "C:\\Users\\dchit\\anaconda3\\lib\\site-packages\\statsmodels\\stats\\stattools.py:74: ValueWarning: omni_normtest is not valid with less than 8 observations; 7 samples were given.\n",
      "  warn(\"omni_normtest is not valid with less than 8 observations; %i \"\n"
     ]
    }
   ],
   "source": [
    "result = sm.OLS(step_1['y'], sm.add_constant(step_1[['x', 'a', 'b']])).fit()\n",
    "print(result.summary())"
   ]
  }
 ],
 "metadata": {
  "kernelspec": {
   "display_name": "Python 3 (ipykernel)",
   "language": "python",
   "name": "python3"
  },
  "language_info": {
   "codemirror_mode": {
    "name": "ipython",
    "version": 3
   },
   "file_extension": ".py",
   "mimetype": "text/x-python",
   "name": "python",
   "nbconvert_exporter": "python",
   "pygments_lexer": "ipython3",
   "version": "3.9.12"
  }
 },
 "nbformat": 4,
 "nbformat_minor": 5
}
