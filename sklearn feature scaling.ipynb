{
 "cells": [
  {
   "cell_type": "code",
   "execution_count": null,
   "id": "ba0cb08a",
   "metadata": {},
   "outputs": [],
   "source": [
    "# import librabry\n",
    "from sklearn.preprocessing import StandardScaler\n",
    "\n",
    "# create scalling_transformer\n",
    "scaling_transformer = StandardScaler()\n",
    "scaling_transformer.fit(input_data)\n",
    "\n",
    "# transform data data\n",
    "def scaling_data(data):\n",
    "    return scaling_transformer.transform(data)"
   ]
  }
 ],
 "metadata": {
  "kernelspec": {
   "display_name": "Python 3 (ipykernel)",
   "language": "python",
   "name": "python3"
  },
  "language_info": {
   "codemirror_mode": {
    "name": "ipython",
    "version": 3
   },
   "file_extension": ".py",
   "mimetype": "text/x-python",
   "name": "python",
   "nbconvert_exporter": "python",
   "pygments_lexer": "ipython3",
   "version": "3.9.12"
  }
 },
 "nbformat": 4,
 "nbformat_minor": 5
}
